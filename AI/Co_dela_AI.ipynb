{
  "nbformat": 4,
  "nbformat_minor": 0,
  "metadata": {
    "colab": {
      "name": "Co_dela_AI.ipynb",
      "provenance": [],
      "collapsed_sections": [],
      "include_colab_link": true
    },
    "kernelspec": {
      "name": "python3",
      "display_name": "Python 3"
    }
  },
  "cells": [
    {
      "cell_type": "markdown",
      "metadata": {
        "id": "view-in-github",
        "colab_type": "text"
      },
      "source": [
        "<a href=\"https://colab.research.google.com/github/Fiiila/Other_stuff/blob/main/AI/Co_dela_AI.ipynb\" target=\"_parent\"><img src=\"https://colab.research.google.com/assets/colab-badge.svg\" alt=\"Open In Colab\"/></a>"
      ]
    },
    {
      "cell_type": "markdown",
      "metadata": {
        "id": "Gqo4vtlTqom2"
      },
      "source": [
        "**Co vlastně dělá AI?**\n",
        "\n",
        "> Co všechno za úlohy se schovává pod pojmem AI?\n",
        "\n",
        "> Jednotlivé kroky zkusíme rozebrat v následujícím colabu "
      ]
    },
    {
      "cell_type": "markdown",
      "metadata": {
        "id": "fdUUZrNHq_-X"
      },
      "source": [
        "## Klasifikace\n",
        "\n",
        "\n",
        "Úloha klasifikace možná zní trochu moc vědecky, ale nejde o nic jiného než automatické třídění libovolných dat do předem určených tříd (kategorií) na základě definovaných parametrů, které má každá třída.\n",
        "\n",
        "V následujícím kódu si můžete prohlédnout, jak by vypadala klasifikace dopravních prostředků. Představte si, že pomocí například kamery a váhy nebo jiných senzorů, které se vyskytují v úseku silnice získají následující data:\n",
        "\n",
        "*   Počet kol\n",
        "*   Hmotnost vozidla\n",
        "\n",
        "Pro reálné využití však může být výhodnější použít například pouze kameru nebo jiné senzory, záleží na aplikaci a dostupných možnostech.\n",
        "\n",
        "Na začátku máme k datasetu i informaci od učitele (člověka), která nám říká, do jaké třídy jednotlivé objekty datasetu zařadit.\n",
        "\n",
        "Jako první si natrénujeme klasifikátor - algoritmus, kterému poté předložíme nějaký neznámý objekt a ten ho následně klasifikuje do třídy."
      ]
    },
    {
      "cell_type": "code",
      "metadata": {
        "colab": {
          "base_uri": "https://localhost:8080/",
          "height": 296
        },
        "id": "IfN4r6tpqmlt",
        "outputId": "b05ca8b1-4fad-4002-eaf9-0001983e53a2"
      },
      "source": [
        "#@title {run:\"auto\"}\n",
        "#Import kihoven\n",
        "import matplotlib.pyplot as plt\n",
        "import numpy as np\n",
        "\n",
        "\n",
        "\n",
        "#Dataset\n",
        "Jednokolky = [[1,3],[1,1],[1,1.8],[1,2.4]]\n",
        "Kola = [[2,3],[2,1.4],[2,2.1],[2,2.4]]\n",
        "Motorky = [[2,130],[2,160],[2,180],[2,210]]\n",
        "Automobily = [[4,1000],[4,810],[4,1280],[4,1190]]\n",
        "Dodávky  = [[4,2000],[4,2810],[4,1580],[4,2190]]\n",
        "\n",
        "\n",
        "data = [Jednokolky,Kola,Motorky,Automobily,Dodávky] #shrnutí jednotlivých dat do jednoho 'pole polí'\n",
        "colors = ['ro', 'yo', 'go', 'bo', 'ko', 'mo'] #barvy pro jednotlivé kategorie\n",
        "\n",
        "\n",
        "# Vykreslení dat do grafu\n",
        "for i in range(0,len(data)):\n",
        "    datVkategorii = len(data[i]) #zjištění kolik dat je v jednotlivé kategorii\n",
        "    tempX = np.zeros(datVkategorii)\n",
        "    tempY = np.zeros(datVkategorii)\n",
        "    for j in range(0,datVkategorii):\n",
        "      tempX[j] = data[i][j][0]\n",
        "      tempY[j] = data[i][j][1]\n",
        "    plt.plot(tempX,tempY,colors[i])\n",
        "plt.title('Data set ve 2D')\n",
        "plt.legend(['Jednokolky','Kola','Motorky','Automobily','Dodávky'])\n",
        "plt.xlabel('počet kol')\n",
        "plt.ylabel('hmotnost vozidla')\n",
        "#@markdown Styl grafu\n",
        "scale = 'log' #@param [\"linear\", \"log\"] {type:\"string\"}\n",
        "plt.yscale(scale) \n",
        "plt.show()"
      ],
      "execution_count": null,
      "outputs": [
        {
          "output_type": "display_data",
          "data": {
            "image/png": "[encoded data removed]",
            "text/plain": [
              "<Figure size 432x288 with 1 Axes>"
            ]
          },
          "metadata": {
            "needs_background": "light"
          }
        }
      ]
    },
    {
      "cell_type": "markdown",
      "metadata": {
        "id": "uy3Rcdodua8k"
      },
      "source": [
        "Všiměte si červeného bodu v levém dolním rohu grafu. Vypadá to na jediný bod, ve skutečnosti je to však několik bodů, které se překrývají.\n",
        "\n",
        "Tady by měl datový analytik zbystřit zrak a zkusit jinou vizualizaci dat (třeba logaritmickou) Konec konců přece nechcete přehlédnout celý trh s jednokolkami jen proto, že se tváří, že je malý v datasetu."
      ]
    },
    {
      "cell_type": "markdown",
      "metadata": {
        "id": "sS60wy4ZuzyK"
      },
      "source": [
        "Nyní máme natrénovaný klasifikátor a můžeme začít klasifikovat objekty u nichž neznáme třídu.\n",
        "\n",
        "V následujícím demu si můžete vyzkoušet funkčnost modelu natrénovaného na datasetu uvedeném v první části.\n",
        "\n",
        "Vyzkoušejme klasifikovat nějaký objekt. Tento objekt má 4 kola a váží 1118 Kg (bod [4,1118]), kam ho počítač klasifikuje?\n",
        "\n",
        "Zkuste provést klasifikaci i pro jiný bod libovolně zvolený podle vás a pozorujte, kam bude bod klasifikovaný.\n",
        "\n",
        "Podrobnější popis použitého modelu najdete zde: [sklearn.naive_bayes.GaussianNB](https://scikit-learn.org/stable/modules/generated/sklearn.naive_bayes.GaussianNB.html)"
      ]
    },
    {
      "cell_type": "code",
      "metadata": {
        "id": "q7khZSjhu9Bi",
        "colab": {
          "base_uri": "https://localhost:8080/"
        },
        "outputId": "f6ebad21-f434-48fd-e701-232514637106"
      },
      "source": [
        "#import knihoven\n",
        "from sklearn.naive_bayes import GaussianNB #Numericko-matematická knihovna\n",
        "import numpy as np\n",
        "\n",
        "#Vytvoření modelu \n",
        "model = GaussianNB()\n",
        "\n",
        "kategorie = ['Jednokolky','Kola','Motorky','Automobily','Dodávky']\n",
        "\n",
        "classes = []\n",
        "\n",
        "dataset = []\n",
        "\n",
        "#Kod pro přetvoření do numpy array\n",
        "for i in range(0,len(data)):\n",
        "  for j in data[i]:\n",
        "    classes.append(i)\n",
        "    dataset.append(np.array(j))\n",
        "  \n",
        "#trénování modelu\n",
        "model.fit(dataset,classes)\n",
        "print('Model natrénován')\n",
        "\n",
        "#@title Definice našeho BODu {run:\"auto\"}\n",
        "#má 2 kola a váží cca 140Kg\n",
        "pocetKol =   2#@param{type:\"integer\"}\n",
        "hmotnost = 140 #@param{type:\"integer\"}\n",
        "bod_ke_klasifikaci = np.array([[pocetKol,hmotnost]])\n",
        "\n",
        "\n",
        "#predikce modelu\n",
        "x = model.predict(bod_ke_klasifikaci)\n",
        "\n",
        "print('Kategorie:', kategorie[x[0]])"
      ],
      "execution_count": null,
      "outputs": [
        {
          "output_type": "stream",
          "text": [
            "Model natrénován\n",
            "Kategorie: Motorky\n"
          ],
          "name": "stdout"
        }
      ]
    },
    {
      "cell_type": "markdown",
      "metadata": {
        "id": "PcKHZrRppObr"
      },
      "source": [
        "# Import vlastních dat\n",
        "Následující dva přístupy zpracování dat si můžete vyzkoušet na svých vlastních datech. Ty si můžete do zdejšího colabu importovat jako CSV (Comma Separated Values) pomocí následující sekvence kódů.\n",
        "\n",
        "Podmínky na soubor:\n",
        "* dva sloupce dat\n",
        "* první sloupec musí představovat osu **x** a ideálně by data měla být seřazená vzestupně (tzn. 0,1,2,3...)\n",
        "* druhý sloupec musí obsahovat data pro osu **y** libovolně dle výběru\n",
        "* každý sloupec musí obsahovat stejný počet hodnot\n",
        "* soubor nesmí obsahovat hlavičku dat\n",
        "\n",
        "Soubor vytvořte v Excelu nebo v poznámkovém bloku či generátoru (např. https://guoguibing.github.io/librec/datagen.html)."
      ]
    },
    {
      "cell_type": "markdown",
      "metadata": {
        "id": "6qJpFjgx335b"
      },
      "source": [
        "Pro vyzkoušení a demonstraci však postačí vzorový náhodný dataset, který načtete do paměti spuštěním následující buňky."
      ]
    },
    {
      "cell_type": "code",
      "metadata": {
        "id": "HwT5L8eH4H56"
      },
      "source": [
        "#vzorová vstupní data\n",
        "import numpy as np\n",
        "\n",
        "dataX = [ 5.05,  4.45, 11.25,  9.6 ,  8.75,  5.6 , 14.5 , 19.9 , 21.95,\n",
        "       15.3 , 20.95, 14.45, 16.8 , 18.9 , 16.8 ,  8.2 ,  7.4 ,  5.45,\n",
        "        6.85,  6.85,  3.15,  5.3 ,  6.4 ,  6.4 ,  7.  ,  5.95,  5.3 ,\n",
        "        5.2 ,  5.75,  6.25,  6.9 ,  9.6 , 24.35, 23.15, 15.95, 20.3 ,\n",
        "       20.35, 19.7 , 19.3 , 22.45, 22.85, 22.25, 21.1 , 21.05, 19.9 ,\n",
        "       19.2 , 20.95, 21.45, 22.05, 21.95, 19.7 , 19.3 , 20.05, 20.6 ,\n",
        "       21.7 , 23.2 , 23.6 , 22.5 , 21.75, 20.2 , 19.5 , 21.85, 22.9 ,\n",
        "       34.1 , 27.05, 29.8 , 32.95, 31.  , 31.5 , 32.6 , 31.65, 31.1 ,\n",
        "       32.4 , 32.85, 32.15, 30.75, 31.05, 34.05, 32.55, 30.15, 28.35,\n",
        "       30.05, 32.45, 33.3 , 31.1 , 32.2 , 32.6 , 28.9 , 28.45, 31.6 ,\n",
        "       31.65, 33.4 , 33.55, 38.25, 36.4 , 32.6 , 38.1 , 39.7 , 39.45,\n",
        "       39.25, 39.45, 36.8 , 38.2 , 38.4 , 38.7 , 39.15, 39.6 , 38.  ,\n",
        "       38.05, 39.35, 40.  , 39.95, 39.4 , 38.95, 39.2 , 39.3 , 37.9 ,\n",
        "       36.2 , 37.3 , 40.05, 41.2 , 40.85, 39.7 , 35.3 , 37.5 , 34.3 ,\n",
        "       26.45, 26.1 ]\n",
        "dataY = [17.65, 13.75, 16.35, 10.3 ,  6.05,  4.55,  5.  ,  2.7 , 13.15,\n",
        "       14.2 ,  7.35,  9.6 , 12.15, 10.65,  9.45, 13.15, 15.65, 14.3 ,\n",
        "       12.65, 14.55, 15.75, 15.25, 14.4 , 14.1 , 15.1 , 15.55, 14.95,\n",
        "       14.65, 15.1 , 14.9 , 13.45, 11.5 ,  5.45,  3.65,  3.1 , 15.7 ,\n",
        "        6.05,  6.8 ,  9.4 ,  9.2 ,  7.65,  6.7 ,  7.15,  8.7 ,  9.3 ,\n",
        "        7.75,  7.9 ,  8.35,  7.15,  6.3 ,  6.65,  8.2 ,  8.75,  8.65,\n",
        "       11.25,  9.25,  8.2 ,  7.65,  9.2 , 10.35,  9.95,  5.9 ,  6.7 ,\n",
        "        2.65,  1.55,  1.45,  1.65,  4.2 ,  4.35,  3.2 ,  1.7 ,  1.95,\n",
        "        3.6 ,  3.6 ,  4.75,  4.1 ,  3.25,  2.45,  2.75,  5.15,  6.55,\n",
        "        6.95,  6.65,  4.45,  2.8 ,  2.3 ,  2.65,  4.85,  3.2 ,  3.4 ,\n",
        "        3.35,  2.8 ,  2.55, 12.55, 11.45, 11.4 , 15.  , 13.55, 11.8 ,\n",
        "       10.05,  8.55, 11.65, 12.6 , 12.5 , 11.05,  9.  ,  9.05,  9.85,\n",
        "       10.05, 10.9 , 11.4 , 12.15, 14.05, 15.  , 15.  , 11.6 ,  7.6 ,\n",
        "        5.  ,  3.2 ,  8.55, 10.45, 12.55, 16.25, 15.7 , 10.95,  8.6 ,\n",
        "        6.85, 12.3 ]\n",
        "dataset = []\n",
        "for i in range(len(dataX)):\n",
        "  dataset.append([dataX[i],dataY[i]])"
      ],
      "execution_count": null,
      "outputs": []
    },
    {
      "cell_type": "markdown",
      "metadata": {
        "id": "nmr42t0m4IxM"
      },
      "source": [
        "Spuštěním následujících dvou buněk nahradíte vzorová data vlastními."
      ]
    },
    {
      "cell_type": "code",
      "metadata": {
        "colab": {
          "resources": {
            "http://localhost:8080/nbextensions/google.colab/files.js": {
              "data": "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",
              "ok": true,
              "headers": [
                [
                  "content-type",
                  "application/javascript"
                ]
              ],
              "status": 200,
              "status_text": ""
            }
          },
          "base_uri": "https://localhost:8080/",
          "height": 38
        },
        "id": "ZcQk3Q87_k5M",
        "outputId": "cf285ff2-5f8f-4cd9-f9c5-a90926c30b0a"
      },
      "source": [
        "#import datasetu\n",
        "from google.colab import files\n",
        "\n",
        "uploaded = files.upload()"
      ],
      "execution_count": null,
      "outputs": [
        {
          "output_type": "display_data",
          "data": {
            "text/html": [
              "\n",
              "     <input type=\"file\" id=\"files-59e0412a-e48f-4f0d-b0a5-8725b32525ea\" name=\"files[]\" multiple disabled\n",
              "        style=\"border:none\" />\n",
              "     <output id=\"result-59e0412a-e48f-4f0d-b0a5-8725b32525ea\">\n",
              "      Upload widget is only available when the cell has been executed in the\n",
              "      current browser session. Please rerun this cell to enable.\n",
              "      </output>\n",
              "      <script src=\"/nbextensions/google.colab/files.js\"></script> "
            ],
            "text/plain": [
              "<IPython.core.display.HTML object>"
            ]
          },
          "metadata": {
            "tags": []
          }
        }
      ]
    },
    {
      "cell_type": "code",
      "metadata": {
        "id": "MbqXEehI_qA4"
      },
      "source": [
        "#predzpracovani dat do numpy formatu numpy.ndarray\n",
        "import pandas as pd\n",
        "import io\n",
        "import numpy as np\n",
        "\n",
        "#@markdown Jméno souboru s daty\n",
        "name = 'data' #@param {type:\"string\"}\n",
        "fileName = name+'.csv' #pridani pripony souboru\n",
        "#@markdown Oddělovač\n",
        "sep = ',' #@param {type:\"string\"}\n",
        "dataset = pd.read_csv(io.BytesIO(uploaded[fileName]), sep=',',header=None)\n",
        "pocetDat = len(dataset.values)\n",
        "print(f'Počet dat ve vloženém datasetu {fileName} je {pocetDat}')\n",
        "\n",
        "#priprava dat\n",
        "dataX = dataset.values[:, 0]\n",
        "dataY = dataset.values[:, 1]\n",
        "\n",
        "dataset\n"
      ],
      "execution_count": null,
      "outputs": []
    },
    {
      "cell_type": "markdown",
      "metadata": {
        "id": "VI3jqLhVNeku"
      },
      "source": [
        "# Počet kategorií\n",
        "Další oblastí AI je určování počtu kategorií.\n",
        "\n",
        "Jak si to představit? Řekněme, že nevíte jak nebo podle čeho rozdělovat získaná data. Může to být sice jednoduché, ale máte problém s množstvím dat a nebo je tam schovaná nějaká spojitost, kterou nemůžete vidět na první pohled."
      ]
    },
    {
      "cell_type": "code",
      "metadata": {
        "colab": {
          "base_uri": "https://localhost:8080/",
          "height": 282
        },
        "id": "N-jQzToxOVyw",
        "outputId": "3535d212-7618-4f95-8847-5c951c20b36b"
      },
      "source": [
        "plt.scatter(dataX, dataY, color='red')"
      ],
      "execution_count": null,
      "outputs": [
        {
          "output_type": "execute_result",
          "data": {
            "text/plain": [
              "<matplotlib.collections.PathCollection at 0x7fe7b8a6eb10>"
            ]
          },
          "metadata": {
            "tags": []
          },
          "execution_count": 6
        },
        {
          "output_type": "display_data",
          "data": {
            "image/png": "[encoded data removed]",
            "text/plain": [
              "<Figure size 432x288 with 1 Axes>"
            ]
          },
          "metadata": {
            "tags": [],
            "needs_background": "light"
          }
        }
      ]
    },
    {
      "cell_type": "markdown",
      "metadata": {
        "id": "yLh6xafQPexE"
      },
      "source": [
        "Z vykresleného grafu vidíme, že v datasetu máme pravděpodobně tři třídy. Takhle jednoduché to bohužel většinou není. Ve většině situací máme milióny dat ve stovkách dimenzí, které rozhodně nejsou takhle přehledné.\n",
        "\n",
        "Tam je sice možné zpozorovat jednotlivé shluky, ale je již těžké ručně stanovit nějakou přesnou hranici (např. intervalem), kterou pomyslně ořízneme data na jednotlivé kategorie. \n",
        "\n",
        "Proto využijeme metodu shlukování.\n",
        "\n",
        "Pomocí algoritmu Kmeans, o kterém si povíme zas někdy jindy, rozdělíme dataset na X nejpodobnějších shluků."
      ]
    },
    {
      "cell_type": "code",
      "metadata": {
        "colab": {
          "base_uri": "https://localhost:8080/",
          "height": 754
        },
        "id": "l2d5DrPFPuFj",
        "outputId": "a4655944-bd8d-4bed-cc1d-23d6eac20116"
      },
      "source": [
        "np_dataset = np.array(dataset)\n",
        "\n",
        "#Využíváme algoritmu Kmeans s tím že matematickou hatmatilkou dostáváme vzdálenosti ke středu shluku \n",
        "import pandas as pd\n",
        "from sklearn.preprocessing import MinMaxScaler\n",
        "from sklearn.cluster import KMeans\n",
        "import matplotlib.pyplot as plt\n",
        "\n",
        "Sum_of_squared_distances = []\n",
        "K = range(1,10)\n",
        "for k in K:\n",
        "    km = KMeans(n_clusters=k)\n",
        "    km = km.fit(np_dataset)\n",
        "    print(km)\n",
        "    Sum_of_squared_distances.append(km.inertia_)\n",
        "plt.plot(K, Sum_of_squared_distances, 'bx-')\n",
        "plt.xlabel('k')\n",
        "plt.ylabel('Sum_of_squared_distances')\n",
        "plt.title('Elbow Method For Optimal k')\n",
        "plt.show()"
      ],
      "execution_count": null,
      "outputs": [
        {
          "output_type": "stream",
          "text": [
            "KMeans(algorithm='auto', copy_x=True, init='k-means++', max_iter=300,\n",
            "       n_clusters=1, n_init=10, n_jobs=None, precompute_distances='auto',\n",
            "       random_state=None, tol=0.0001, verbose=0)\n",
            "KMeans(algorithm='auto', copy_x=True, init='k-means++', max_iter=300,\n",
            "       n_clusters=2, n_init=10, n_jobs=None, precompute_distances='auto',\n",
            "       random_state=None, tol=0.0001, verbose=0)\n",
            "KMeans(algorithm='auto', copy_x=True, init='k-means++', max_iter=300,\n",
            "       n_clusters=3, n_init=10, n_jobs=None, precompute_distances='auto',\n",
            "       random_state=None, tol=0.0001, verbose=0)\n",
            "KMeans(algorithm='auto', copy_x=True, init='k-means++', max_iter=300,\n",
            "       n_clusters=4, n_init=10, n_jobs=None, precompute_distances='auto',\n",
            "       random_state=None, tol=0.0001, verbose=0)\n",
            "KMeans(algorithm='auto', copy_x=True, init='k-means++', max_iter=300,\n",
            "       n_clusters=5, n_init=10, n_jobs=None, precompute_distances='auto',\n",
            "       random_state=None, tol=0.0001, verbose=0)\n",
            "KMeans(algorithm='auto', copy_x=True, init='k-means++', max_iter=300,\n",
            "       n_clusters=6, n_init=10, n_jobs=None, precompute_distances='auto',\n",
            "       random_state=None, tol=0.0001, verbose=0)\n",
            "KMeans(algorithm='auto', copy_x=True, init='k-means++', max_iter=300,\n",
            "       n_clusters=7, n_init=10, n_jobs=None, precompute_distances='auto',\n",
            "       random_state=None, tol=0.0001, verbose=0)\n",
            "KMeans(algorithm='auto', copy_x=True, init='k-means++', max_iter=300,\n",
            "       n_clusters=8, n_init=10, n_jobs=None, precompute_distances='auto',\n",
            "       random_state=None, tol=0.0001, verbose=0)\n",
            "KMeans(algorithm='auto', copy_x=True, init='k-means++', max_iter=300,\n",
            "       n_clusters=9, n_init=10, n_jobs=None, precompute_distances='auto',\n",
            "       random_state=None, tol=0.0001, verbose=0)\n"
          ],
          "name": "stdout"
        },
        {
          "output_type": "display_data",
          "data": {
            "image/png": "[encoded data removed]",
            "text/plain": [
              "<Figure size 432x288 with 1 Axes>"
            ]
          },
          "metadata": {
            "tags": [],
            "needs_background": "light"
          }
        }
      ]
    },
    {
      "cell_type": "markdown",
      "metadata": {
        "id": "HGnmoLpgSqY4"
      },
      "source": [
        "Tento graf nám říká, jak moc velké rozdíly jsou mezi jednotlivými shluky. Mezi shlukem 1 a 2 pozorujeme velký rozdíl, to zanamená, že to budou rozdílné třídy. To samé platí pro shluky 2 a 3. Naopak mezi shluky 3, 4, 5,..., 9 jsou rozdíly minimální. To znamená, že jsou ze stejné třídy.\n",
        "\n",
        "Tento graf můžeme vytvořit pro dataset s desítkami dimenzí."
      ]
    },
    {
      "cell_type": "code",
      "metadata": {
        "colab": {
          "base_uri": "https://localhost:8080/",
          "height": 265
        },
        "id": "U7tOix2xTWv7",
        "outputId": "f5eee766-9e25-4241-f72a-3cb85256e3c5"
      },
      "source": [
        "#Teď je potřeba provést rozdělení do tříd využijeme opět algoritmus Kmenas\n",
        "#Zde můžete experimentovat\n",
        "#@title Nastavení počtu shluků, do kterých se mají data rozdělit {run:\"auto\"}\n",
        "pocet_shluku = 1 #@param {type:\"slider\", min:1, max:10, step:1}\n",
        "\n",
        "km = KMeans(n_clusters=pocet_shluku)\n",
        "km = km.fit(np_dataset)\n",
        "y_kmeans = km.predict(np_dataset)\n",
        "\n",
        "\n",
        "plt.scatter(np_dataset[:, 0], np_dataset[:, 1], c=y_kmeans, s=50, cmap='viridis')\n",
        "\n",
        "centers = km.cluster_centers_\n",
        "plt.scatter(centers[:, 0], centers[:, 1], c='black', s=200, alpha=0.5);"
      ],
      "execution_count": null,
      "outputs": [
        {
          "output_type": "display_data",
          "data": {
            "image/png": "[encoded data removed]",
            "text/plain": [
              "<Figure size 432x288 with 1 Axes>"
            ]
          },
          "metadata": {
            "tags": [],
            "needs_background": "light"
          }
        }
      ]
    },
    {
      "cell_type": "markdown",
      "metadata": {
        "id": "EHSxY_3Wuuk0"
      },
      "source": [
        "V grafu vidíme barevně oddělené jednotlivé shluky.\n",
        "\n",
        "Co jsou ty šedé tečky? To jsou středy našich shluků. V podstatě nám říkají, jak by měl vypadat průměrný bod shluku. Tento průměrný bod si můžeme představt jako např. průměrné parametry produktu v dané kategorii.\n",
        "\n",
        "Dále je důležité rozlištit klasifikaci a třídění do tříd protože si musíte uvědomit že tady počítač neměl žádnou informaci kromě dat samotných a počtu hledaných kategorií. "
      ]
    },
    {
      "cell_type": "markdown",
      "metadata": {
        "id": "KeyOo34LvKGQ"
      },
      "source": [
        "# Predikce\n",
        "\n",
        "Poslední úloha na kterou se zaměříme je predikce.\n",
        "\n",
        "Například si představme, že chceme vědět kolik se v následujícím období prodá zmrzliny. Použijeme data z prodejů za minulé období a počet dětí ve městě a necháme to vše uvařit pomocí AI. (Přiznám se, že tady budeme trošku podvádět a k učení využejeme jen klasickou regresi.)\n",
        "\n",
        "V následujícím bloku kódu uvidíte, jak se lineární regrese aplikuje na vzorová (popř. vaše) data. Můžete zkusit měnit parametry a sledovat, jak se mění tvar křivky. Pro vysoké stupně polynomů je vhodné přepnout na logaritmickou metriku, kde bude lépe vidět, jak přesně křivka popisuje vstupní data."
      ]
    },
    {
      "cell_type": "code",
      "metadata": {
        "colab": {
          "base_uri": "https://localhost:8080/",
          "height": 265
        },
        "id": "rb-k4FYsJXhY",
        "outputId": "b066852f-ce12-4c78-c2d4-3b0188166995"
      },
      "source": [
        "#@title Lineární regrese dat a predikce {run:\"auto\"}\n",
        "\n",
        "#import potřebných knihoven\n",
        "import numpy as np\n",
        "import matplotlib.pyplot as plt\n",
        "\n",
        "#@markdown Stupeň polynomu predikující průběh dat\n",
        "degree = 6 #@param {type:\"slider\", min:1, max:10, step:1}\n",
        "\n",
        "#vytvoření regresního modelu a nastavení parametrů regrese\n",
        "polyRegModel = np.poly1d(np.polyfit(dataX, dataY, degree))\n",
        "#@markdown Interval pro který se bude vykreslovat regrese (zadej ve formátu: **start, end**)\n",
        "vykreslovaciInterval =  0,60 #@param\n",
        "#@markdown Počet vzorků v intervalu (celé číslo) \n",
        "pocetVzorku = 100 #@param {type:\"integer\"}\n",
        "interval = np.linspace(vykreslovaciInterval[0],vykreslovaciInterval[1],100)\n",
        "\n",
        "#vykreslení dat\n",
        "plt.plot(dataX, dataY,'bo')\n",
        "plt.plot(interval,polyRegModel(interval),color='red')\n",
        "plt.legend(['Input data', 'Lineární regrese'])\n",
        "#@markdown metrika osy y\n",
        "scale = 'log' #@param [\"linear\", \"log\"] {type:\"string\"}\n",
        "plt.yscale(scale)"
      ],
      "execution_count": null,
      "outputs": [
        {
          "output_type": "display_data",
          "data": {
            "image/png": "[encoded data removed]",
            "text/plain": [
              "<Figure size 432x288 with 1 Axes>"
            ]
          },
          "metadata": {
            "tags": [],
            "needs_background": "light"
          }
        }
      ]
    }
  ]
}