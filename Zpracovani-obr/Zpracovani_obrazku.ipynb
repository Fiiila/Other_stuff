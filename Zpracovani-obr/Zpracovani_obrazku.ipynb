{
  "nbformat": 4,
  "nbformat_minor": 0,
  "metadata": {
    "colab": {
      "name": "Zpracovani_obrazku.ipynb",
      "provenance": [],
      "collapsed_sections": []
    },
    "kernelspec": {
      "name": "python3",
      "display_name": "Python 3"
    }
  },
  "cells": [
    {
      "cell_type": "markdown",
      "metadata": {
        "id": "JKg3G0-0TfI_"
      },
      "source": [
        "# Zpracování obrázku\n",
        "Import potřebných knihoven a načtení obrázku z lokálního disku do proměnné."
      ]
    },
    {
      "cell_type": "code",
      "metadata": {
        "id": "Xc6LFQBgMzpX",
        "colab": {
          "resources": {
            "http://localhost:8080/nbextensions/google.colab/files.js": {
              "data": "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",
              "ok": true,
              "headers": [
                [
                  "content-type",
                  "application/javascript"
                ]
              ],
              "status": 200,
              "status_text": ""
            }
          },
          "base_uri": "https://localhost:8080/",
          "height": 72
        },
        "outputId": "14766987-4c72-4b9f-a909-62e3a0eea533"
      },
      "source": [
        "from google.colab import files  #pro praci se soubory\n",
        "import numpy as np              #pro praci s maticemi\n",
        "import matplotlib.image as img  #pro praci s obrazky\n",
        "import matplotlib.pyplot as plt #pro vykreslovani\n",
        "import matplotlib.cm as cm      #pro premapovani obrazoveho spektra obrazku pri vykreslovani\n",
        "\n",
        "\n",
        "readed_file = files.upload()    #nacteni obrazku z lokalniho disku do promenne"
      ],
      "execution_count": 5,
      "outputs": [
        {
          "output_type": "display_data",
          "data": {
            "text/html": [
              "\n",
              "     <input type=\"file\" id=\"files-5b966300-d25e-4c69-bd5d-19da334fd159\" name=\"files[]\" multiple disabled\n",
              "        style=\"border:none\" />\n",
              "     <output id=\"result-5b966300-d25e-4c69-bd5d-19da334fd159\">\n",
              "      Upload widget is only available when the cell has been executed in the\n",
              "      current browser session. Please rerun this cell to enable.\n",
              "      </output>\n",
              "      <script src=\"/nbextensions/google.colab/files.js\"></script> "
            ],
            "text/plain": [
              "<IPython.core.display.HTML object>"
            ]
          },
          "metadata": {
            "tags": []
          }
        },
        {
          "output_type": "stream",
          "text": [
            "Saving ColorMixing.png to ColorMixing.png\n"
          ],
          "name": "stdout"
        }
      ]
    },
    {
      "cell_type": "markdown",
      "metadata": {
        "id": "EJL7aa-z0dDa"
      },
      "source": [
        "Nyní je potřeba vybrat z načtených obrázků jeden, se kterým budeme dále pracovat."
      ]
    },
    {
      "cell_type": "code",
      "metadata": {
        "colab": {
          "base_uri": "https://localhost:8080/"
        },
        "id": "OJPCXybIS6UC",
        "outputId": "e9065bb8-30c5-4b3b-848c-6e46dfee51f6"
      },
      "source": [
        "#vypsani klicu slovniku nactenych obrazku\n",
        "print('Vyber nazev z nactenych obrazku... '+str(readed_file.keys()))  \n",
        "\n",
        "#cyklus pro ulozeni jednoho nacteneho obrazku do promenne picName\n",
        "while(True):\n",
        "  picName = input('Zadej jeden z nazvu nactenych obrazku: ')          #zazadani o ucivatelsky vstup\n",
        "  if(picName in readed_file.keys()):                                  #overeni, zdali byl obrazek zadaneho jmena nacten\n",
        "    print('Ke zpracovani vybran obrazek: '+picName)                   #Vypsani, ze obrazek byl vybran z klicu slovniku a ukonceni while cyklu\n",
        "    break\n",
        "  else:\n",
        "    print('Zadan soubor, ktery nebyl nacten.\\nZadej znovu...')        #pri nespravnem uzivatelskem vstupu se cyklus opakuje stale dokola"
      ],
      "execution_count": 6,
      "outputs": [
        {
          "output_type": "stream",
          "text": [
            "Vyber nazev z nactenych obrazku... dict_keys(['ColorMixing.png'])\n",
            "Zadej jeden z nazvu nactenych obrazku: ColorMixing.png\n",
            "Ke zpracovani vybran obrazek: ColorMixing.png\n"
          ],
          "name": "stdout"
        }
      ]
    },
    {
      "cell_type": "markdown",
      "metadata": {
        "id": "5Il_VuiPUWVJ"
      },
      "source": [
        "## RGB vsuvka (bitová hloubka a skládání barev)\n",
        ">Než rozložíme obrázek na barevná spektra, je nutné pochopit, co se nám zobrazí.\n",
        "\n",
        ">RGB obrázek si lze představit jako jeho tři jednotlivá barevná spektra položená na sebe. (**R**-red, **G**-green, **B**-blue)\n",
        "\n",
        ">Každý jeden pixel pak má svou hodnotu ve spektru R, G a B, aby dohromady vzájemným mixováním vytvořili požadovanou barvu.\n",
        "\n",
        ">Standartně se RGB obrázek chová jako displej z RGB diod, kde čím větší číslo, tím větší jas té dané barvy. Tím se pak rozsvícením všech barev na maximum dostaneme k bílé a vypnutím k černé jako na následujícím obrázku.\n",
        "\n",
        ">![ColorMixing.png](data:image/png;base64,iVBORw0KGgoAAAANSUhEUgAAAMgAAADICAYAAACtWK6eAAAAAXNSR0IArs4c6QAAAARnQU1BAACxjwv8YQUAAAAJcEhZcwAADsQAAA7EAZUrDhsAABXHSURBVHhe7Z0JkB5FGYY/yAVJIEC4IxjRhGAQD0BBjAUYIpcKKErkEAFB4gFVXghlWYpaqGiJB4IIqMhVXGq4BCIJRFDBRIgQcnEKJBJATDbJbja7vu/0bLlJ5v+3Z6Znpq9n6830/JVk/57+vunr6+5NRKQXikQiGWyaXiORSAbRQSKRNkQHiUTaEB0kEmlDdJBIpA3RQSKRNkQHiUTaEOdBamYCNAp6I7Q7NBpiAQyCNofIamgdxMJ5GVoALYFeg56AIvURHaQitoYOhA6DxqVpk8yEFkF3pOlXoYh5ooMYYgj0EWgqdDjEGqFOWOPcDl0L3QithSLliQ5SghHQGanG8wOLWAhdmqqDH0QKQweJyqGjoLkQbpwQvyu/c1Zeotor1iCaDIa+A30puXOX70PnQt3JXWQgooMMwDDoMujE5M4froI+BXUmd5FWxHmQFrDGuAJaA/nmHIR5Yt6YR+Y1kk10kAzOgzgK9Mnkzm+YR+aVeY5sTGxi9WM/iHMKbFaFCJtbnK/5S3IXIbEGSbkJehAK1TkI885nwGcRUQRfg+wDPaSSkQ3YF3pYJYMl6BrkIig6R2v4bPiMQibYGoRBfwwWjAwMgyUZZBkiwTnIbtBiiBmP6EMjeRP0ZHIXDkE1sdjfYNh4dI788Jnx2fEZhkQwDsKJsdjfKA+foY8Tp60IwkG+CP1GJSMG4LPkMw0B7x2EM8QM0IuYhc80hNl3rzvpn4Z+rpKRijgTukQlvcRbBzkU4nLUSPVwWfGdKukdXjrIW6BHVTJSE3tB81TSK7xzkM0g7goSqR/uysIQep/wrpP+bHqN1I+Pz94rB2EU6nYqGWkAPnvfIoG9cZAToGNUMtIgLAOWhS940QeJ/Q778KU/4kUNwj2gInbhS5k47yBnQbuoZMQiWCYsG9dxuokVm1b243pTy+ka5A/pNWIvrpeRszXIW6F/qGTEct4GPaKSzuGsgzwHvU4lI5bzL8jVfqKTTaxDoOgc7sCyYpm5iJM1CE9d2kYlI47wCsTTtFzDuRpkChSdwz1YZiw713CuBpkPhboFjetwq6U9VNIZnKpBJkLROdyFZccydAmnHOQb6TXiLq6VoVNNLCfHoyMbQaNzBWdqkFPTa8R9XCpLZ2oQzsRy3XPEfbhfACMhXMAJB+G5Fb6tdQ4dBpq6cD6iE02sT6TXiD+4UqZOOIhPSzgjClfK1IkmVhy98hMXRrOsr0H2T68R/3ChbK13EJ66GvETF8rWegc5PL1G/MOFsrW+DxL7H35jez/E6hqEY+URv7G9jK12kP3Sa8RfbC9jqx2ExxhE/Mb2Mra6D/Jr6CSVNAgDV7i+jYOMO0EjIR5wvCO0LTQU4nujB2KAy3LoeYhnvPKeByH/DfovtBZyAGZnBERrZBDUYGjnVNtD3LyK2WZ2GP+xDHoR4m4L3dDj0FyoI703CM87tHlW3WoHmQ4dqZIFoSO8G5oE8cwp7q2xNWQKOg8d5y7obmgORCtqEPo/HYEP7gBoT4i+b4p/QwugP0HMNvdeWgUV5FboAyppJVY7SLGtfegIU6GjoC35Qc28BN0A/RZ6kB9UzzshZvlYaAw/qBnWODz3oECWXdgSiA5ipfCHpj4O3Qf1Wqjp0KEQbkxqMnQzlP1Lm9Vt0GFQ1vfOUFbZW6TMD60Q/mijt0O3QNllZKcuh8ZAuCminaBLoez/3E5dAY2FsvKTKqvsLVLmh1YIf2ToZOjfUHZ5uKHHoPdBuNHRQdA8KPs/c0PzoUOhjPxllb1FyvywcQ2GkOins6F1UPbzd1MvQ8dBuMnSR6HlUPY/dlMd0MlQv3yyrLNswAZZ20nfAuJAqjqq/uIk5S+vQsdD6cnuPHj8asjkgJttcOTrU9A1aihlBT+zEGsnCkcmp929BvnuHISecLvInktEluyZJL12DjIc4kvgKZQ1BxwtxUIHoWXMl55k3LCJYdqGYHbn7SayG4/j9+2s2DaMFem5BVdumWnhS8EyBzkX4jbHE6QjmbK1svVnFs6SMZvrHdHLG35YbprUCXrQ2mJRc9tFFj1NwCIs6YOwvuUs9O7JnWJd+sUGJX96yW3QgIsi2N46QiV9BA6yCQu6fzFzpv4dUIkZelNYUIMcDTE8o79zEMZCecoboS5Ia8UQ/xL/Mv+Rh9A5NixqmgJNgqbRMA07yI+hm1VyIxhRt04lfeIMaDE0JLnThH+Z/+j05M4rWMQs6ixoGjSRBmmwifVXiEFErXlROmXHJPrOEy6HTlHJ4vwS4vioHyzrFNlxoCJm8PS7VLJuGqhBGFfN4dv2zkEYYe0NzExp5yCnQf48mbl8RQ8ETYUmQ9OpmZodhK8KLjjQG7591bZBtqI8BfGoV2PwP+O6FPd5RcdBCE2GplNzg6JGC+TKnHw77D7kyoKkVrDw+eYbm9wZ5g0QZ+B1LcxOHs67AIsmRFOqiZochCv1uGggH4+6PsTLkZhK5zq3ghpeoFWSR4oUMU2JJlUDNXTS2XAsto/3SOmSFckIjoNvSdYctQUC8JfRWRwDlrclapAVuUb0+sHmFkfAK6TiGoQ5L+YcZGUy/lfxE6iCRVCtUTKjoIUq6RJoQa8o00igaRV1Lk0qdpCl6bUom8r9acoZHoa4B0TtjIMeUklHmM22S1kLLGtiA1Chg9C0y59ofqdLzaufQXurZDPsA12kkg7wRxNFSxOr8C1akYN8G3qPSpbkXleCFk+Gpqlks3weOlElLWeGqWgimhpNrgIq6KRzV5F04Y8RGLTIr9gqHsECdoWeUUl74JfivjCWgvfeJnw9m3xFc6HZnSppCsMOwtyaj5+6D72xSTaHnNQ6YqWL3SNb93eJvLeKmXF2+g3GuRpuYlUTAnGVzUGL10DWOQfhyBY3qrKTq6sK1jZsggZrkM9CP1FJwwyVtahD6MuWTRy+F5qlkvbCXSVnq6QtwDk2gzqrajV/DvqpSpbFkIOw+VPtQc2PSJfs1US0Wjv4FjQxElMp/JJ2vVgeXysykc5R5bMzdM60oSbWfem1Oi60bcLwF5D1zkFYxJeopCV8jwOTVT87QyZpoAY5GJqhkpXSnX5RC0azuJnssyrpDvzS3Am3YdCdTHyjjkrtfRA32S6BgRrkd+m1agbLDbbUItyS3Dns+NI3sfaoq8VnwDRLOgh7Q9zirR7OSf40OCpdBE5K7aWSbsGDQXgURIOg6FQZ1gRNkyZagpJNrPqNdb6skQlNnmzHUOsa1yOYhYd77KCSDbAAnfMJVXfOsyjx+0rUIF9Or/VypslZoLxwptZZ5yD88u9XyQaYxumsup2DlDDVEjVIU02dHnleOmXn5NywmuGxZCZPa2oEZoJnr9XLUnQfd2LtYWjcNDcFHbPg1+VGy02xqZyQpmqFG5k57xyE5zIyM/VyAt+nTTkHKWiyBWuQpl+lvbJAOmR8cgBnTfBoMW/OpWZm6uuwL14jMo5zyU00r/rguhG+G3JSwEF4QuSjKtkgE2W1/DPprNfw1OmHtu7PXxhmqob17LCuvdA5n2dDEARHH7k3eA4KVHrfTK/N8hj6INPr2rDAsg2VzVBPpm7ttMQ5SAHTLVCDFGiRVcSmskbWJbNOFS9MXgnxnHGvYKYqnsPqFhncI7LOphC6nA2OnDWIBbsJ96MHTazTTESktYPVsnfOQdjEYnO5Ok6Hg1jlHCSnCed0kJLTkhVwOax3XnpYWyUwit9bqsvcY6tELrNxjVtOE87ZxLKnedWfoWhqdVbV1GLnvMbBsnph5ipY7bVOZBjUZVvt0UeOZlaOGoShkXbShabWMbIaKcMOzABYb52DsA/CTBoERXAsWr3WOgfJYco5HGRqerWTW/AmvC5Zh22Q49Kr13wsvZrhBjStbuSBYTaTw5RzNLFciLNgGMoq2dnUa5/nUuyrkv5i7vCNZWtgIaw5Ckwe1EqOScMcDmJn/2NjVuGbMlsGYrVcyXJpcjTKW9GF/4XPy+LNZ9ZDM8uavm5v/2NjhssbEsvmypwSvD69BkHJzPaIjHPJOYimSWs6CDeDc4en4SSTkv5ICSfhjiXBUCKzcI5J6Hcsdsk5iKZJazrIhifQ2s9sGS1TktnigutHDkmvQTA5veYEj/Zw9DtmuzjSp2nSmg7iprXcLVvJsfIyUgWcZLf0GgQFjphGk2pqh8gdto9YtULTpDU76Rp/xWKOlOUyXbZGKsduAW5nuQA5Oup43xyzWuQW10NwNLKsUYO4/yq9VbaVA5Pz/CqO2woBdOsORp/DeecgGqat4SB887rPLDjJ3omDaOwAyfMxg0Mj03COd60VudeX6AIN09ZwkEaOS6qEObKlbC5dslr+k37SgqD6H320z/RqNKlGwkH+1sBWAJWhYdoaDjI+vfrBGjjJcPzMkFfSTzKwYPPG+mmd6VlwjuFDRDoa3G2pEjRMW8NBmttHqTqGymTUr+ck4TMZcyWvS69BMSa99gOd8fP+K3IgHcPHl4aGaWs4SMF5BOvZRL4rO8lYNLi6NlxPUmBxv/usn+m13GgB/Y3vMBreQCSKlWiYtoaD2By3XJ5nZAsZhp9L5CXcpQf1bKcuYZHuiAejubwDpY4aw7nZ8bxomLaGg7g6E5SHYXImvGK8rJBlstz3d0ILhspLcIyJXSKncQg3hH6YhmlrOEjFGyJYxCLZSnaEjh9R4RJeC2Ev7LjuQbI9+hqP+9YRb4eGaWs4CFfqhcRguaZjZNLs/pr6wGu+ANFOrh+MDkddxxLYgoZpRwfJIp1L/BZER/l6cucXX4WYtx8md0RjAtU3zDiIr6NYbVjJKOD/w/3GaExnQjz9wFWeh06CmJcL+MF6cMg7MMyMYmXME/jOwuxAI570x0XH3Pr59/zAEa6H3gxxeucqfpDJC+k1IDRMW8NBnkmvAbEsHe5tAY/iPgrim5jXuyHbuB06AuJ35N4T86H28HCdwNAwbQ0HeSK9BsRa1r168e6sSaZANMQDoB9AC6G6WQCx2fROiN+FzkEn0ceyU4TrQMO0+SwHsASebfcPlQyFHWAsSzm2w8dTnP0hPj0a666QqaMNWYPxkF06ANMPQeXZBuKSgIB4G/SISrZCw0E4rRxa9YsmVvJUqhn33BNiX4YT1QzwoLZK7wmD8hlvzG4zewa8Z/pxqDrKvQychMEDDKBog4aDEL3mhj8gvythliNCmTVjZPNolQwJjXeCRh+EhNZRx5P7e0izZgO0M3xE06Q1HeSB9BoQc0KqNc30YpxC06Q1HeQv6TUg/hzSBCm3Hw0MTZPW7IOwu8/xkoDYcq3IawxpDaHzyonRVSoZCm+HNAZnNR2EhNhRXwfb8T3um5HLo1QyJDTfe5pNLDInvYYCnuADqEW85/70GhA5TDmHg9ycXgPi+hBGsm5MrwGRw5RzNLG4LcwSlQyFEd1oZvEdkuM94hxcVhfYkgbutPqkSg5EDgchfJAhLTnDo/kXmlljfF2D+zQU2C55XPaSY2+vnK/G1sHSfoL3x2U+D05cll4DIqcJ56xBGEU0TyVDYQc0s5ayL8JH5RvbQtz9PiB4NPw/VVKHnA5CuNrOh52LdcHjWdKJLphvTUvGeu+hkqHQAeXcV7hA75MrHkIC75ALfBzNujC9BkQB0y1Qg7CHE9isa8Xh783gY5NxAAoM2BWoQfgb7lXJYIBj/MqnScNfpteAoMkWGM0uUIOQiVCOno4PbIPO+su+dNa54e4KlQwFji89ppJ5KDgDxt+kOdPiC68MFpnFtX2ucw8UmHPQVAs4BylYg5D3QIHF8XC784WuR/gyIuIplQyFSdBslcxLiRgK/sbAapFFQ0RmutwX4QZFgTkHTbSgc5ASNQhhUH1gUb67oJn1LHc8KfFuaQyeGBPYBhzc5a/EUqaSpczfHNiI1nPDRH7rYi1yBRSYc9A0S67zK1mDkC2gsI4LUPMifGwuLabyYfQtJwYG6wy0E/gNzlfJYBgkcoZLtcgp6TUgaJIGBusM1CB9LIdC2lsJj21Bl8h4288p43ZznLcKCMZfMg7TAAYdZAI08BbJXjEKDvIfTh7aHIIS4IIoxmAa2lLa4FAMv1FgTa3XhopMs7mpdSoUmHPQBA3ut26wBumDe5uPU8lQeBBGuF+OZWq1MAs6UCVDYRE0XiVNUYGDcN1EYG8tQS3Sy0dpy6gWa7UAj+rlO8rwSXIVzHbxG+6jksEwRGQsD92hbIC7EgQGTa6CYxYrmg7+O8QT/QLimWEiJzCY0XCFnJujoedUMhRoajS5imCJVqQrIc6oBaSvrurFpSF9BQrs50oID74qVdAH2RDO9wfWWbxqJWqTnIufS3Mx9BmVDIWZ0EEqWRU1OAhhWDzD4wNiBhrEB9e10cOt0AdUMhQYocsw9oqpyUEIt9jfVyWDoEfkgdUi+1e9A8wMaLJKhgKPM+FppTVQUSc9C+aIY/OhgEf77uEid1c55M0zdgNzDppQTc5BanQQwr5ISOHxqKCnoJl1BfcSM81FEE9pD4gGurM1Owg5GPqRSgYBnORUdNjP4VZJplqzX4bOVslQoMnQdBogGc6qX6dAvWHpqBW90tsNIV1Yk6HAfk6B8ACbUI2d9CwCPFJh5zUii1Fxb543FISLGxhotDS5C4YcRxVUQQNNrP4w5/TRCqdBbeMF9EmGI8/35OmXTIe4PC4g56BJ0DQa3hekYQfpg4E0Z6lkEAwROQT9kpPYLxkoXP446IMqGQo0BUvC+RpuYm0Il4FxBmj35C4INutElntE9t4wXP6vECdXu5O7IFgAMctcnGoJltQgffDJcGXiGcldEKwZhrclnONj/TcE5/DtflBAzsEiZ9Fb5Bx9rNdrt0uhBTt+t1cuQL5D+qk42NCAMj+0SKOhO6Asg/JF10IjoDTPI6BrIZ9/7oBGQ315tleZH1qoXaDpUJaBuarroFFQVn6hUdB1kE8/06FdoKz82qnMDy0W37SXQlkG54K6ofOhrLy10flQN+Tqz6UQa8asvNmtzA8d0dHQXCjLEG3TTGgylJWPHJoMzYRc+JkLHQ1l5cMdZX7omAZB06A5UJZxNqXZ0IlQ1nc2oBOh2ZBNP3OgadAgKOs7OybL5kFMMQX6MPQhiDua1wUP5r8Nuhb6Mz+ojwOgqdAR0Fh+UBPLIEbd3wTdxQ/8wlMH6Q9jnrhPFy3nzRDXaHK3wTJ7U3KXdJ4pfCfE2S1euR+YJY+SpcqwrUMhzrnyynVb20NF4fwEp2oYcs7dTPke4D5UXZDHBOAgraDj8JwPWg0daAzE2Ww+kj56IC54ehaiNXDTV1qEoxN43LaL2eYWyszyrhCz3H+6mNbALD8PMct8FzAaxnNHaEXADhKJDIxloSaRiF1EB4lE2hAdJBJpQ3SQSKQN0UEikTZEB4lE2hAdJBJpQ3SQSKQN0UEikTZEB4lE2hAdJBJpQ3SQSKQN0UEikTZEB4lE2hAdJBJpicj/AKue9hQXCmoHAAAAAElFTkSuQmCC)\n",
        "\n",
        ">Pro lepší znázornění však bude lepší tento standart invertovat, aby bylo vidět, kolik barvy dané místo obsahuje. Pokud ale chcete vidět následující obrázky ve standartním RGB režimu, upravte vykreslovací řádky do tohoto tvaru `plt.imshow(matrix,cmap=cm.Barva`**_r**`)`\n",
        "\n",
        ">Jemnost mixování barev je dána počtu vzorků intenzity barvy. Vezmeme-li, že například intenzitu červené barvy rozdělíme na 10 vzorků, dostaneme následující obrázek.\n",
        "\n",
        ">Pokud změníte `numberOfSteps` na vyšší hodnotu, sledujte, jak se bude měnit barevná paleta spekter."
      ]
    },
    {
      "cell_type": "code",
      "metadata": {
        "colab": {
          "base_uri": "https://localhost:8080/",
          "height": 415
        },
        "id": "eOmmHF9h34nr",
        "outputId": "dd5b504b-4f9d-4252-bcc6-5fe34a327f4c"
      },
      "source": [
        "#vytvoreni matice plne nul jako zakladni platno pro nasledujici kresleni\n",
        "matrix = np.zeros([100,1000])\n",
        "\n",
        "numberOfSteps = 10                                     #MENIT ZDE idealne po 5ti (pouze delitele 1000 bez zbytku)-pocet kroku mezi 0% a 100% intenzity barvy\n",
        "step=int(1000/(numberOfSteps))                         #vypocteni sirky kroku na stupnici 0-1000\n",
        "\n",
        "vektor = np.linspace(0,255,numberOfSteps)              #vytvoreni vektoru s rovnomernym rozlozenim mezi 0 a 255 (8bitova presnost\n",
        "\n",
        "#cyklus vykreslujici vertikalni pruhy pomoci matice\n",
        "for i in range(numberOfSteps):\n",
        "  matrix[:,i*step:i*step+step] = int(vektor[i])\n",
        "\n",
        "#vykresleni dane matice s postupnym pouzitim RGB\n",
        "plt.subplots(3,1)\n",
        "plt.suptitle('Paleta barevného spektra',fontsize=16)\n",
        "plt.subplot(3,1,1)\n",
        "plt.imshow(matrix,cmap=cm.Reds)\n",
        "plt.title('Paleta kanálu R')\n",
        "plt.subplot(3,1,2)\n",
        "plt.imshow(matrix,cmap=cm.Greens)\n",
        "plt.title('Paleta kanálu G')\n",
        "plt.subplot(3,1,3)\n",
        "plt.imshow(matrix,cmap=cm.Blues)\n",
        "plt.title('Paleta kanálu B')\n",
        "plt.show()\n",
        "print('Upravena matice podle nastaveneho poctu casti.')\n",
        "print(matrix)"
      ],
      "execution_count": 10,
      "outputs": [
        {
          "output_type": "display_data",
          "data": {
            "image/png": "[encoded data removed]",
            "text/plain": [
              "<Figure size 432x288 with 3 Axes>"
            ]
          },
          "metadata": {
            "tags": [],
            "needs_background": "light"
          }
        },
        {
          "output_type": "stream",
          "text": [
            "Upravena matice podle nastaveneho poctu casti.\n",
            "[[  0.   0.   0. ... 255. 255. 255.]\n",
            " [  0.   0.   0. ... 255. 255. 255.]\n",
            " [  0.   0.   0. ... 255. 255. 255.]\n",
            " ...\n",
            " [  0.   0.   0. ... 255. 255. 255.]\n",
            " [  0.   0.   0. ... 255. 255. 255.]\n",
            " [  0.   0.   0. ... 255. 255. 255.]]\n"
          ],
          "name": "stdout"
        }
      ]
    },
    {
      "cell_type": "markdown",
      "metadata": {
        "id": "dvOhWB5SFQDT"
      },
      "source": [
        ">Výše zobrazené palety objasňují tzv. bitovou hloubku barvy.\n",
        "\n",
        ">Pokud máme standartní bitovou hloubku 8bitů, znamená to, že máme 2^8=256 stupňů barev. Při vyšší bitové hloubce pak tedy dostáváme možnost pracovat s více barvami a vytvářet jemnější barevné přechody.\n",
        "\n",
        ">Nyní tedy můžeme rozložit vložený obrázek na barevná spektra"
      ]
    },
    {
      "cell_type": "markdown",
      "metadata": {
        "id": "JPOsVliIlVqs"
      },
      "source": [
        "## Rozklad na jednotlivá spektra RGB"
      ]
    },
    {
      "cell_type": "code",
      "metadata": {
        "colab": {
          "base_uri": "https://localhost:8080/",
          "height": 774
        },
        "id": "SqLHpG-hWrP9",
        "outputId": "01a556ff-4712-4fda-dea0-dbad156ae5a7"
      },
      "source": [
        "imageInArray = img.imread(picName)      #nacteni obrazku do matice\n",
        "dimensions = np.shape(imageInArray)     #zjisteni rozmeru nactene matice\n",
        "print('Rozmery nacteneho obrazku jsou: '+'\\n\\tvyska= '+str(dimensions[0])+'px'+'\\n\\tsirka= '+str(dimensions[1])+'px'+'\\n\\tpocet spekter= '+str(dimensions[2]))\n",
        "\n",
        "#vytvoreni kopii jednotlivych spekter obrazku, aby jsme neposkodili nacteny original\n",
        "spectrum_red = np.copy(imageInArray[:,:,0])\n",
        "spectrum_green = np.copy(imageInArray[:,:,1])\n",
        "spectrum_blue = np.copy(imageInArray[:,:,2])\n",
        "\n",
        "#zobrazeni matice reprezentujici nacteny obrazek\n",
        "plt.imshow(imageInArray)\n",
        "plt.title(picName)\n",
        "plt.show()\n",
        "\n",
        "#zobrazeni jednotlivych barevnych spekter matice obrazku v cislech\n",
        "print('Obrazek reprezentovany multidimenzionalni matici...')\n",
        "print('R-red\\n'+str(spectrum_red))\n",
        "print('G-green\\n'+str(spectrum_green))\n",
        "print('B-blue\\n'+str(spectrum_blue))"
      ],
      "execution_count": 11,
      "outputs": [
        {
          "output_type": "stream",
          "text": [
            "Rozmery nacteneho obrazku jsou: \n",
            "\tvyska= 200px\n",
            "\tsirka= 200px\n",
            "\tpocet spekter= 4\n"
          ],
          "name": "stdout"
        },
        {
          "output_type": "display_data",
          "data": {
            "image/png": "[encoded data removed]",
            "text/plain": [
              "<Figure size 432x288 with 1 Axes>"
            ]
          },
          "metadata": {
            "tags": [],
            "needs_background": "light"
          }
        },
        {
          "output_type": "stream",
          "text": [
            "Obrazek reprezentovany multidimenzionalni matici...\n",
            "R-red\n",
            "[[0. 0. 0. ... 0. 0. 0.]\n",
            " [0. 0. 0. ... 0. 0. 0.]\n",
            " [0. 0. 0. ... 0. 0. 0.]\n",
            " ...\n",
            " [0. 0. 0. ... 0. 0. 0.]\n",
            " [0. 0. 0. ... 0. 0. 0.]\n",
            " [0. 0. 0. ... 0. 0. 0.]]\n",
            "G-green\n",
            "[[0. 0. 0. ... 0. 0. 0.]\n",
            " [0. 0. 0. ... 0. 0. 0.]\n",
            " [0. 0. 0. ... 0. 0. 0.]\n",
            " ...\n",
            " [0. 0. 0. ... 0. 0. 0.]\n",
            " [0. 0. 0. ... 0. 0. 0.]\n",
            " [0. 0. 0. ... 0. 0. 0.]]\n",
            "B-blue\n",
            "[[0. 0. 0. ... 0. 0. 0.]\n",
            " [0. 0. 0. ... 0. 0. 0.]\n",
            " [0. 0. 0. ... 0. 0. 0.]\n",
            " ...\n",
            " [0. 0. 0. ... 0. 0. 0.]\n",
            " [0. 0. 0. ... 0. 0. 0.]\n",
            " [0. 0. 0. ... 0. 0. 0.]]\n"
          ],
          "name": "stdout"
        }
      ]
    },
    {
      "cell_type": "markdown",
      "metadata": {
        "id": "qhe1ZYMqP13Z"
      },
      "source": [
        ">Nyní obrázek rozdělený na kopie barevných spekter v předchozím kroku z původního barevného \"sandwiche\" vykreslíme jak v souvisejících barvách (`spectrum_red` - červeně), tak černobíle (tak jak obrázek vidí počítač a zpracovává ho)."
      ]
    },
    {
      "cell_type": "code",
      "metadata": {
        "id": "EYhvDQWNSgzz",
        "colab": {
          "base_uri": "https://localhost:8080/",
          "height": 281
        },
        "outputId": "379ac6a9-0028-46e3-e888-b1e2d718990b"
      },
      "source": [
        "#Vykresleni jednotlivych barevnych spekter a jejich cernobilou verzi pri zobrazeni odstiny sede\n",
        "#opet lze pro standartni zobrazeni RGB spektra pridat '_r' do vyznacenych radku symboly '###'\n",
        "\n",
        "\n",
        "#ZOBRAZENI V NATIVNICH BARVACH\n",
        "plt.subplot(2, 3, 1)\n",
        "plt.imshow(spectrum_red,cmap=cm.Reds)###\n",
        "plt.title('R-red spectrum')\n",
        "\n",
        "plt.subplot(2, 3, 2)\n",
        "plt.imshow(spectrum_green, cmap=cm.Greens)###\n",
        "plt.title('G-green spectrum')\n",
        "\n",
        "plt.subplot(2, 3, 3)\n",
        "plt.imshow(spectrum_blue, cmap=cm.Blues)###\n",
        "plt.title('B-blue spectrum')\n",
        "\n",
        "#ZOBRAZENI V ODSTINECH SEDI\n",
        "plt.subplot(2, 3, 4)\n",
        "plt.imshow(spectrum_red,cmap=cm.Greys)###\n",
        "plt.title('R in greys')\n",
        "\n",
        "plt.subplot(2, 3, 5)\n",
        "plt.imshow(spectrum_green,cmap=cm.Greys)###\n",
        "plt.title('G in greys')\n",
        "\n",
        "plt.subplot(2, 3, 6)\n",
        "plt.imshow(spectrum_blue,cmap=cm.Greys)###\n",
        "plt.title('B in greys')\n",
        "\n",
        "plt.show()"
      ],
      "execution_count": 12,
      "outputs": [
        {
          "output_type": "display_data",
          "data": {
            "image/png": "[encoded data removed]",
            "text/plain": [
              "<Figure size 432x288 with 6 Axes>"
            ]
          },
          "metadata": {
            "tags": [],
            "needs_background": "light"
          }
        }
      ]
    },
    {
      "cell_type": "markdown",
      "metadata": {
        "id": "7cCoLbAnh3GV"
      },
      "source": [
        "## Demonstrace možnosti práce s obrázkem jako maticí"
      ]
    },
    {
      "cell_type": "markdown",
      "metadata": {
        "id": "ir9jPYvWkYEr"
      },
      "source": [
        ">Převedení jednoho spektra obrázku na vektor a zpět. Ai algoritmy pracují s obrázkem jako vektorem, protože je to výpočetně jednodušší a rychlejší narozdíl od práce s numpy maticí. Pěkně je to vyvětleno v následujícím videu: [Strojové učení](https://youtu.be/1BneqPdEhMM?t=484)\n",
        "\n",
        ">Následně jako demonstraci, že obrázek převedený do vektoru (pole) lze zpětně rekonstruovat do originálu, převedeme na matici se známými rozměry.\n",
        "\n",
        ">Případně je možné pro experimenty zkusit změnit výšku a šířku. Je však nutné zachovat stejný počet pixelů (počet pixelů šířky **x** počet pixelů výšky)\n",
        "\n",
        ">Pro demonstraci bylo použito červené spektrum. Stejný princip však funguje i pro ostatní spektra. Lze to ověřit jednoduchým zkopírováním kódu a změnou proměnných."
      ]
    },
    {
      "cell_type": "code",
      "metadata": {
        "colab": {
          "base_uri": "https://localhost:8080/",
          "height": 524
        },
        "id": "Mh-4-1Qe5p6l",
        "outputId": "7b0be8c7-3c2f-4c7f-eeb2-abc8dcb1cc12"
      },
      "source": [
        "#prevedeni matice R-spektra na vektor\n",
        "redAsArray = np.matrix.flatten(spectrum_red)\n",
        "print('Matice prevedena na vektor')\n",
        "print('Velikost vektoru: '+str(len(redAsArray))+'\\n')\n",
        "print(redAsArray)\n",
        "\n",
        "#prevedeni vektoru zpet na matici o danych rozmerech (ktere je nutne si pamatovat)\n",
        "arrayAsMatrix=redAsArray.reshape(dimensions[0],dimensions[1])\n",
        "print('Vektor prevedeny zpet na matici')\n",
        "print('Rozmery matice: '+ str(arrayAsMatrix.shape)+ '\\n')\n",
        "\n",
        "#zobraceni matice poskladane z vektoru\n",
        "print(arrayAsMatrix)\n",
        "plt.imshow(arrayAsMatrix,cmap=cm.Reds)\n",
        "plt.show"
      ],
      "execution_count": 13,
      "outputs": [
        {
          "output_type": "stream",
          "text": [
            "Matice prevedena na vektor\n",
            "Velikost vektoru: 40000\n",
            "\n",
            "[0. 0. 0. ... 0. 0. 0.]\n",
            "Vektor prevedeny zpet na matici\n",
            "Rozmery matice: (200, 200)\n",
            "\n",
            "[[0. 0. 0. ... 0. 0. 0.]\n",
            " [0. 0. 0. ... 0. 0. 0.]\n",
            " [0. 0. 0. ... 0. 0. 0.]\n",
            " ...\n",
            " [0. 0. 0. ... 0. 0. 0.]\n",
            " [0. 0. 0. ... 0. 0. 0.]\n",
            " [0. 0. 0. ... 0. 0. 0.]]\n"
          ],
          "name": "stdout"
        },
        {
          "output_type": "execute_result",
          "data": {
            "text/plain": [
              "<function matplotlib.pyplot.show>"
            ]
          },
          "metadata": {
            "tags": []
          },
          "execution_count": 13
        },
        {
          "output_type": "display_data",
          "data": {
            "image/png": "[encoded data removed]",
            "text/plain": [
              "<Figure size 432x288 with 1 Axes>"
            ]
          },
          "metadata": {
            "tags": [],
            "needs_background": "light"
          }
        }
      ]
    }
  ]
}